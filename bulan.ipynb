{
 "cells": [
  {
   "cell_type": "code",
   "execution_count": 6,
   "id": "b9ca29a8-23a5-41ca-a6da-c2d77db3ef72",
   "metadata": {},
   "outputs": [
    {
     "ename": "SyntaxError",
     "evalue": "invalid non-printable character U+00A0 (2102957239.py, line 21)",
     "output_type": "error",
     "traceback": [
      "\u001b[1;36m  Cell \u001b[1;32mIn[6], line 21\u001b[1;36m\u001b[0m\n\u001b[1;33m    print(\"ini merupakan 30 hari\")\u001b[0m\n\u001b[1;37m                                        ^\u001b[0m\n\u001b[1;31mSyntaxError\u001b[0m\u001b[1;31m:\u001b[0m invalid non-printable character U+00A0\n"
     ]
    }
   ],
   "source": [
    "hitung = 0\n",
    "jawab = \"ya\"\n",
    "\n",
    "while(jawab == \"ya\"):\n",
    "    inputbulan = int(input(\"masukan bulan nya: \"))\n",
    "    inputtahun = int(input(\"masukan tahun nya: \"))\n",
    "    jawab = str(input(\"ingin lanjut atau tidak: \"))   \n",
    "    def hitung_bulan():\n",
    "      if(inputbulan >= 13 or inputbulan <= 0):\n",
    "          print(\"bulan tidak terdaftar di dalam kalender\")\n",
    "          \n",
    "      elif(inputbulan == 1 or inputbulan == 3 or inputbulan == 5 or inputbulan == 7 or inputbulan == 8 or inputbulan == 10 or inputbulan == 12):\n",
    "          print(\"Ini termasuk 31 hari\")     \n",
    "      elif (inputbulan == 2):\n",
    "          if(inputtahun % 4 == 0 and inputbulan == 2):\n",
    "              print(\"Ini 29 hari\")\n",
    "          return\n",
    "          else :\n",
    "            print(\"ini merupakan 28 hari \")   \n",
    "      else:\n",
    "          print(\"ini merupakan 30 hari\")       \n",
    "    hitung_bulan()"
   ]
  },
  {
   "cell_type": "code",
   "execution_count": 12,
   "id": "901eab99-b57d-4dcb-86d1-4e75a6ccee89",
   "metadata": {},
   "outputs": [
    {
     "name": "stdin",
     "output_type": "stream",
     "text": [
      "bulan (1-12):  1\n"
     ]
    },
    {
     "name": "stdout",
     "output_type": "stream",
     "text": [
      "ada 31 hari\n"
     ]
    },
    {
     "name": "stdin",
     "output_type": "stream",
     "text": [
      "bulan (1-12):  9\n"
     ]
    },
    {
     "name": "stdout",
     "output_type": "stream",
     "text": [
      "ada 30 hari\n"
     ]
    },
    {
     "name": "stdin",
     "output_type": "stream",
     "text": [
      "bulan (1-12):  2\n",
      "tahun:  2023\n"
     ]
    },
    {
     "name": "stdout",
     "output_type": "stream",
     "text": [
      "ada 28 hari\n"
     ]
    },
    {
     "name": "stdin",
     "output_type": "stream",
     "text": [
      "bulan (1-12):  -1\n"
     ]
    },
    {
     "name": "stdout",
     "output_type": "stream",
     "text": [
      "dadah\n"
     ]
    }
   ],
   "source": [
    "while True:\n",
    "    bulan = int(input(\"bulan (1-12): \"))\n",
    "    if bulan < 1 or bulan > 12:\n",
    "        print(\"dadah\")\n",
    "        break\n",
    "    elif bulan == 1 or bulan == 3 or bulan == 5 or bulan == 7 or bulan == 8 or bulan == 10 or bulan == 12:\n",
    "        print(\"ada 31 hari\")\n",
    "    elif bulan == 4 or bulan == 6 or bulan == 9 or bulan == 11:\n",
    "        print(\"ada 30 hari\")\n",
    "    elif bulan == 2:\n",
    "        tahun = int(input(\"tahun: \"))\n",
    "        if (tahun % 4 == 0 and tahun % 100 != 0) or (tahun % 400 == 0):\n",
    "            print(\"ada 29 hari\")\n",
    "        else:\n",
    "            print(\"ada 28 hari\")\n"
   ]
  },
  {
   "cell_type": "code",
   "execution_count": null,
   "id": "b82af9d7-ecc5-422c-9d89-8f756802c8c2",
   "metadata": {},
   "outputs": [],
   "source": []
  }
 ],
 "metadata": {
  "kernelspec": {
   "display_name": "Python 3 (ipykernel)",
   "language": "python",
   "name": "python3"
  },
  "language_info": {
   "codemirror_mode": {
    "name": "ipython",
    "version": 3
   },
   "file_extension": ".py",
   "mimetype": "text/x-python",
   "name": "python",
   "nbconvert_exporter": "python",
   "pygments_lexer": "ipython3",
   "version": "3.12.4"
  }
 },
 "nbformat": 4,
 "nbformat_minor": 5
}
